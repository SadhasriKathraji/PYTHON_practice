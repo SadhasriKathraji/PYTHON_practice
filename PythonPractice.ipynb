{
 "cells": [
  {
   "cell_type": "code",
   "execution_count": null,
   "id": "1827e6e6-53ef-42e5-b2f8-1b485d76279c",
   "metadata": {},
   "outputs": [],
   "source": [
    "Q1"
   ]
  },
  {
   "cell_type": "code",
   "execution_count": 4,
   "id": "20eea44b-4da3-4ce3-b995-1144590f37dd",
   "metadata": {},
   "outputs": [
    {
     "name": "stdout",
     "output_type": "stream",
     "text": [
      "Hello world\n"
     ]
    }
   ],
   "source": [
    "# Write a Python program to print \"Hello, World!\" to the screen.\n",
    "print(\"Hello world\")"
   ]
  },
  {
   "cell_type": "code",
   "execution_count": null,
   "id": "c84bac57-a834-425b-9cb7-a6f163c5a3ac",
   "metadata": {},
   "outputs": [],
   "source": [
    "Q2"
   ]
  },
  {
   "cell_type": "code",
   "execution_count": 5,
   "id": "15433828-089d-44da-9b03-faf4250c38bf",
   "metadata": {},
   "outputs": [
    {
     "name": "stdin",
     "output_type": "stream",
     "text": [
      "enter num1: 12\n",
      "enter num2: 15\n"
     ]
    },
    {
     "name": "stdout",
     "output_type": "stream",
     "text": [
      "sum is: 27\n"
     ]
    }
   ],
   "source": [
    "# Write a Python program that asks the user for two numbers, then prints their sum.\n",
    "# method 1\n",
    "num1 = int(input(\"enter num1:\"))\n",
    "num2 = int(input(\"enter num2:\"))\n",
    "sum = num1+num2\n",
    "print(\"sum is:\",sum)"
   ]
  },
  {
   "cell_type": "code",
   "execution_count": null,
   "id": "0963df4b-2564-4709-868a-92a51f57bd67",
   "metadata": {},
   "outputs": [],
   "source": []
  },
  {
   "cell_type": "code",
   "execution_count": 7,
   "id": "5c727d71-8451-4c01-b1d7-102c45e80a13",
   "metadata": {},
   "outputs": [
    {
     "name": "stdin",
     "output_type": "stream",
     "text": [
      "enter num1: 13\n",
      "enter num2: 56\n"
     ]
    },
    {
     "name": "stdout",
     "output_type": "stream",
     "text": [
      "sum is: 69\n"
     ]
    }
   ],
   "source": [
    "# method 2\n",
    "def add(num1, num2):\n",
    "    sum = num1 + num2\n",
    "    print(\"sum is:\",sum)\n",
    "n1 = int(input(\"enter num1:\"))\n",
    "n2 = int(input(\"enter num2:\"))\n",
    "add(n1,n2)"
   ]
  },
  {
   "cell_type": "code",
   "execution_count": null,
   "id": "ab64fa83-e7be-456b-84ee-184f310d4586",
   "metadata": {},
   "outputs": [],
   "source": [
    "Q3"
   ]
  },
  {
   "cell_type": "code",
   "execution_count": 21,
   "id": "17b9385a-c066-42d0-9024-834f12c58808",
   "metadata": {},
   "outputs": [
    {
     "name": "stdin",
     "output_type": "stream",
     "text": [
      "guess a number between 1 and 10: 5\n"
     ]
    },
    {
     "name": "stdout",
     "output_type": "stream",
     "text": [
      "congratulations\n"
     ]
    }
   ],
   "source": [
    "# Write a Python program that generates a random number between 1 and 10, \n",
    "# then asks the user to guess it. If the user's guess is correct,\n",
    "# print \"Congratulations!\" Otherwise, print \"Try again!\"\n",
    "\n",
    "import random\n",
    "number = random.randint(1,10)\n",
    "user_guessed_number = int(input(\"guess a number between 1 and 10:\"))\n",
    "if number == user_guessed_number:\n",
    "    print(\"congratulations\")\n",
    "else:\n",
    "    print(\"try again\")"
   ]
  },
  {
   "cell_type": "code",
   "execution_count": null,
   "id": "600455ea-e024-40df-acb4-fc29ae2cec19",
   "metadata": {},
   "outputs": [],
   "source": [
    "Q4"
   ]
  },
  {
   "cell_type": "code",
   "execution_count": 26,
   "id": "90e1eda0-2b01-4463-ad2e-7dcff1a83e97",
   "metadata": {},
   "outputs": [
    {
     "name": "stdin",
     "output_type": "stream",
     "text": [
      "enter a number(0 for rock, 1 for paper, 2 for scissors): 2\n",
      "enter a number(0 for rock, 1 for paper, 2 for scissors): 1\n"
     ]
    },
    {
     "name": "stdout",
     "output_type": "stream",
     "text": [
      "user1 wins\n"
     ]
    }
   ],
   "source": [
    "# Write a Python program that allows two players to play Rock, Paper, Scissors.\n",
    "# Ask each player for their choice, then determine the winner based on the game's rules.\n",
    "\n",
    "user1 = int(input(\"enter a number(0 for rock, 1 for paper, 2 for scissors):\"))\n",
    "user2 = int(input(\"enter a number(0 for rock, 1 for paper, 2 for scissors):\"))\n",
    "if user1 == user2:\n",
    "    print(\"draw\")\n",
    "elif user1 == 0 and user2 == 1:\n",
    "    print(\"user1 wins\")\n",
    "elif user1 == 1 and user2 == 0:\n",
    "    print(\"user2 wins\")\n",
    "elif user1 == 0 and user2 == 2:\n",
    "    print(\"user1 wins\")\n",
    "elif user1 == 2 and user2 == 0:\n",
    "    print(\"user2 wins\")\n",
    "elif user1 > user2:\n",
    "    print(\"user1 wins\")\n",
    "elif user2 > user1:\n",
    "    print(\"user2 wins\")"
   ]
  },
  {
   "cell_type": "code",
   "execution_count": null,
   "id": "928a8a57-e386-402e-83e2-e393f0707185",
   "metadata": {},
   "outputs": [],
   "source": [
    "Q5"
   ]
  },
  {
   "cell_type": "code",
   "execution_count": 29,
   "id": "3202a47d-b39a-4732-bf82-8d9fa81d4b88",
   "metadata": {},
   "outputs": [
    {
     "name": "stdin",
     "output_type": "stream",
     "text": [
      "enter your marks: 67\n"
     ]
    },
    {
     "name": "stdout",
     "output_type": "stream",
     "text": [
      "Grade D\n"
     ]
    }
   ],
   "source": [
    "# Write a Python program that asks the user for their score on a test (out of 100), then prints their corresponding grade:\n",
    "# - A: 90-100\n",
    "# - B: 80-89\n",
    "# - C: 70-79\n",
    "# - D: 60-69\n",
    "# - F: below 60\n",
    "\n",
    "marks = int(input(\"enter your marks:\"))\n",
    "if marks>90:\n",
    "    print(\"Grade A\")\n",
    "elif marks>80:\n",
    "    print(\"Grade B\")\n",
    "elif marks>70:\n",
    "    print(\"Grade C\")\n",
    "elif marks>60:\n",
    "    print(\"Grade D\")\n",
    "else:\n",
    "    print(\"Grade F\") "
   ]
  },
  {
   "cell_type": "code",
   "execution_count": null,
   "id": "85b2889c-8bce-4743-9716-713aea98a137",
   "metadata": {},
   "outputs": [],
   "source": []
  }
 ],
 "metadata": {
  "kernelspec": {
   "display_name": "Python 3 (ipykernel)",
   "language": "python",
   "name": "python3"
  },
  "language_info": {
   "codemirror_mode": {
    "name": "ipython",
    "version": 3
   },
   "file_extension": ".py",
   "mimetype": "text/x-python",
   "name": "python",
   "nbconvert_exporter": "python",
   "pygments_lexer": "ipython3",
   "version": "3.12.4"
  }
 },
 "nbformat": 4,
 "nbformat_minor": 5
}
